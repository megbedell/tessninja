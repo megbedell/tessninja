{
 "cells": [
  {
   "cell_type": "code",
   "execution_count": 5,
   "metadata": {},
   "outputs": [],
   "source": [
    "import pandas as pd\n",
    "import glob"
   ]
  },
  {
   "cell_type": "code",
   "execution_count": 6,
   "metadata": {},
   "outputs": [
    {
     "name": "stdout",
     "output_type": "stream",
     "text": [
      "                     2MASS      KIC             Gaia_DR1         RA  \\\n",
      "0  2MASS J19201973+3746549  2435987  2051291223977890000  290.08221   \n",
      "1  2MASS J19202354+3751229  2568916  2051291670654710000  290.09811   \n",
      "2  2MASS J19203005+3750191  2569055  2051297271292000000  290.12521   \n",
      "3  2MASS J19203485+3746298  2436417  2051288062881990000  290.14523   \n",
      "4  2MASS J19203934+3748048  2569360  2051294041476490000  290.16394   \n",
      "\n",
      "         Dec    umag    gmag    rmag    imag    zmag    Jmag    Hmag    Kmag  \\\n",
      "0  37.781940     NaN  15.698  14.517  14.084  13.764  12.512  11.862  11.704   \n",
      "1  37.856361     NaN  15.156  14.069  13.677  13.405  12.223  11.630  11.497   \n",
      "2  37.838661  19.243  15.292  14.141  13.746  13.470  12.269  11.651  11.483   \n",
      "3  37.774971     NaN  15.246  14.078  13.681  13.405  12.233  11.569  11.397   \n",
      "4  37.801338     NaN  15.391  14.104  13.620  13.299  12.035  11.323  11.164   \n",
      "\n",
      "   kepmag  pmRA  pmDec  phot_g_mean_mag  \n",
      "0  14.568   0.0    0.0           14.395  \n",
      "1  14.121  -1.1    0.2           13.957  \n",
      "2  14.210   2.8    4.2           14.054  \n",
      "3  14.151  -1.1   -3.8           13.977  \n",
      "4  14.151   0.0    0.0           13.956  \n"
     ]
    }
   ],
   "source": [
    "ref_dir = '/Users/davies/Projects/TessNinja/Megan/tessninja/data/'\n",
    "df_megan = pd.read_csv(ref_dir + 'NGC6791_xmatch.csv')\n",
    "print(df_megan.head(5))"
   ]
  },
  {
   "cell_type": "code",
   "execution_count": 8,
   "metadata": {},
   "outputs": [
    {
     "name": "stdout",
     "output_type": "stream",
     "text": [
      "Missing light curve for 2569624\n"
     ]
    }
   ],
   "source": [
    "lc_dir = '/Users/davies/Projects/TessNinja/Megan/tessninja/SeismicData/output/KASOC_Corrected_timeseries/'\n",
    "for idx, row in df_megan.iterrows():\n",
    "    lc_file = glob.glob(lc_dir + '*' + str(row.KIC) + '*.dat')\n",
    "    if len(lc_file) > 0:\n",
    "        pass\n",
    "    else:\n",
    "        print(f'Missing light curve for {row.KIC}')"
   ]
  },
  {
   "cell_type": "code",
   "execution_count": null,
   "metadata": {},
   "outputs": [],
   "source": []
  }
 ],
 "metadata": {
  "kernelspec": {
   "display_name": "Python 3",
   "language": "python",
   "name": "python3"
  },
  "language_info": {
   "codemirror_mode": {
    "name": "ipython",
    "version": 3
   },
   "file_extension": ".py",
   "mimetype": "text/x-python",
   "name": "python",
   "nbconvert_exporter": "python",
   "pygments_lexer": "ipython3",
   "version": "3.6.4"
  }
 },
 "nbformat": 4,
 "nbformat_minor": 2
}
